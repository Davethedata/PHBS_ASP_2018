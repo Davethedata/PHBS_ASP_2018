{
 "cells": [
  {
   "cell_type": "code",
   "execution_count": 1,
   "metadata": {
    "collapsed": true
   },
   "outputs": [],
   "source": [
    "import numpy as np"
   ]
  },
  {
   "cell_type": "code",
   "execution_count": 2,
   "metadata": {
    "collapsed": true
   },
   "outputs": [],
   "source": [
    "def_rate = 0.1\n",
    "rf_rate = 0.03\n",
    "recovery = 0.3\n",
    "mat = 10"
   ]
  },
  {
   "cell_type": "code",
   "execution_count": 12,
   "metadata": {},
   "outputs": [
    {
     "data": {
      "text/plain": [
       "(10.077625769483447, 10.0)"
      ]
     },
     "execution_count": 12,
     "metadata": {},
     "output_type": "execute_result"
    }
   ],
   "source": [
    "# First generate exponential random numbers\n",
    "# Although you can generate directly using fault_time = np.random.exponential(scale=), let's use uniform random numbers.\n",
    "n_sample = 10000\n",
    "U = np.random.uniform(size=n_sample)\n",
    "default_time = -(1/def_rate)*np.log(U)\n",
    "\n",
    "# You can check if the RNs are correct by comparing the means\n",
    "(default_time.mean(), 1/def_rate)"
   ]
  },
  {
   "cell_type": "code",
   "execution_count": 13,
   "metadata": {},
   "outputs": [
    {
     "data": {
      "text/plain": [
       "array([  5.64288864,   8.57712808,   2.06037537, ...,  23.07033775,\n",
       "        12.18076758,   1.25239857])"
      ]
     },
     "execution_count": 13,
     "metadata": {},
     "output_type": "execute_result"
    }
   ],
   "source": [
    "default_time"
   ]
  },
  {
   "cell_type": "code",
   "execution_count": 52,
   "metadata": {},
   "outputs": [
    {
     "data": {
      "text/plain": [
       "(0.94104114320239285, 0.0012844551919007957)"
      ]
     },
     "execution_count": 52,
     "metadata": {},
     "output_type": "execute_result"
    }
   ],
   "source": [
    "# Put your code here to price the corporate bond\n",
    "\n",
    "def corp_bond(mat=1, def_rate=0.03, rf_rate=0.04, recovery=0.3, n_sample=10000):\n",
    "    U = np.random.uniform(size=n_sample)\n",
    "    default_time = -(1/def_rate)*np.log(U)\n",
    "    vals1 = np.zeros(n_sample)\n",
    "    for i in range(0,9999):\n",
    "        if default_time[i] > 1:\n",
    "            vals1[i] = np.exp(-mat*rf_rate)\n",
    "        else :\n",
    "            vals1[i] = recovery*np.exp(-default_time[i]*rf_rate) \n",
    "    price = vals1.mean()\n",
    "    return price\n",
    "\n",
    "\n",
    "\n",
    "# Call your function\n",
    "BondPrice1 = np.zeros(100)\n",
    "for j in range(100):\n",
    "    BondPrice1[j] = corp_bond()\n",
    "     \n",
    "(BondPrice1.mean(),BondPrice1.std())    \n",
    "    \n",
    "\n",
    "# Find the mean and std by calling the function 100 times."
   ]
  },
  {
   "cell_type": "code",
   "execution_count": 47,
   "metadata": {},
   "outputs": [
    {
     "data": {
      "text/plain": [
       "(9.9999999999999982, 10.0)"
      ]
     },
     "execution_count": 47,
     "metadata": {},
     "output_type": "execute_result"
    }
   ],
   "source": [
    "# For example, antithetic method mean\n",
    "n_sample = 10000\n",
    "U = np.random.uniform(size=n_sample)\n",
    "default_time = -(1/def_rate)*np.log(np.concatenate((U,1-U),axis=0))\n",
    "\n",
    "# Mean-matching means\n",
    "default_time += 1/def_rate-default_time.mean()\n",
    "(default_time.mean(), 1/def_rate)"
   ]
  },
  {
   "cell_type": "code",
   "execution_count": 51,
   "metadata": {},
   "outputs": [
    {
     "name": "stdout",
     "output_type": "stream",
     "text": [
      "0.941241285326 0.00113823150698\n",
      "0.941566755257 0.00298940002001\n"
     ]
    }
   ],
   "source": [
    "# No include the two new features: `antithetic` and `mean_match`\n",
    "\n",
    "def corp_bond_cv(mat=1, def_rate=0.03, rf_rate=0.04, recovery=0.3, n_sample=10000, antithetic=True, mean_match=True):\n",
    "    U = np.random.uniform(size=n_sample)\n",
    "    if(antithetic):\n",
    "        default_time = -(1/def_rate)*np.log(np.concatenate((U,1-U),axis=0))\n",
    "        vals2 = np.zeros(n_sample)\n",
    "        for i in range(0,9999):\n",
    "            if default_time[i] > 1:\n",
    "                vals2[i] = np.exp(-mat*rf_rate)\n",
    "            else :\n",
    "                vals2[i] = recovery*np.exp(-default_time[i]*rf_rate) \n",
    "        price = vals2.mean()\n",
    "    if(mean_match):\n",
    "        default_time = -(1/def_rate)*np.log(np.concatenate((U,1-U),axis=0))\n",
    "        default_time += 1/def_rate-default_time.mean()\n",
    "        vals3 = np.zeros(n_sample)\n",
    "        for i in range(0,9999):\n",
    "            if default_time[i] > 1:\n",
    "                vals3[i] = np.exp(-mat*rf_rate)\n",
    "            else :\n",
    "                vals3[i] = recovery*np.exp(-default_time[i]*rf_rate) \n",
    "        price = vals3.mean() \n",
    "    return price\n",
    "\n",
    "BondPrice2 = np.zeros(100)\n",
    "for j in range(100):\n",
    "    BondPrice2[j] =  corp_bond_cv(mean_match=False)\n",
    "     \n",
    "print(BondPrice2.mean(),BondPrice2.std())    \n",
    "\n",
    "BondPrice3 = np.zeros(100)\n",
    "for j in range(100):\n",
    "    BondPrice3[j] =  corp_bond_cv(antithetic=False)\n",
    "     \n",
    "print(BondPrice3.mean(),BondPrice3.std()) \n",
    "\n",
    "# Find the mean and std by calling the function 100 times for (i) antithetic (ii) mean_match and (iii) both"
   ]
  },
  {
   "cell_type": "markdown",
   "metadata": {},
   "source": []
  },
  {
   "cell_type": "code",
   "execution_count": 50,
   "metadata": {},
   "outputs": [
    {
     "data": {
      "text/plain": [
       "0.91938856256018919"
      ]
     },
     "execution_count": 50,
     "metadata": {},
     "output_type": "execute_result"
    }
   ],
   "source": [
    "analyticvalue = 0\n",
    "K = np.arange(0,1,0.0001)\n",
    "for k in range(0,10000):\n",
    "    m = K[j]\n",
    "    analyticvalue += 0.3*np.dot(m,np.exp(-0.04*m))*0.03*np.exp(-0.04*m)\n",
    "\n",
    "analyticvalue += np.dot(1-np.exp(-0.03),np.exp(-0.04))\n",
    "\n",
    "analyticvalue    "
   ]
  },
  {
   "cell_type": "code",
   "execution_count": 53,
   "metadata": {},
   "outputs": [
    {
     "name": "stdout",
     "output_type": "stream",
     "text": [
      "0.0216525806422\n",
      "0.0218527227654\n",
      "0.0221781926967\n"
     ]
    }
   ],
   "source": [
    "print(BondPrice1.mean()-analyticvalue)\n",
    "print(BondPrice2.mean()-analyticvalue)\n",
    "print(BondPrice3.mean()-analyticvalue)"
   ]
  },
  {
   "cell_type": "code",
   "execution_count": null,
   "metadata": {
    "collapsed": true
   },
   "outputs": [],
   "source": []
  }
 ],
 "metadata": {
  "kernelspec": {
   "display_name": "Python 3",
   "language": "python",
   "name": "python3"
  },
  "language_info": {
   "codemirror_mode": {
    "name": "ipython",
    "version": 3
   },
   "file_extension": ".py",
   "mimetype": "text/x-python",
   "name": "python",
   "nbconvert_exporter": "python",
   "pygments_lexer": "ipython3",
   "version": "3.6.3"
  }
 },
 "nbformat": 4,
 "nbformat_minor": 2
}
