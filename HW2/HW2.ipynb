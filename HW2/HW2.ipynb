{
 "cells": [
  {
   "cell_type": "markdown",
   "metadata": {
    "collapsed": true
   },
   "source": [
    "## 1. First, let's create a pricing function and check the std"
   ]
  },
  {
   "cell_type": "code",
   "execution_count": 7,
   "metadata": {
    "collapsed": true
   },
   "outputs": [],
   "source": [
    "import numpy as np"
   ]
  },
  {
   "cell_type": "code",
   "execution_count": 8,
   "metadata": {
    "collapsed": true
   },
   "outputs": [],
   "source": [
    "def_rate = 0.1\n",
    "rf_rate = 0.03\n",
    "recovery = 0.3\n",
    "mat = 10"
   ]
  },
  {
   "cell_type": "code",
   "execution_count": 9,
   "metadata": {},
   "outputs": [
    {
     "data": {
      "text/plain": [
       "(9.9820048182150991, 10.0)"
      ]
     },
     "execution_count": 9,
     "metadata": {},
     "output_type": "execute_result"
    }
   ],
   "source": [
    "# First generate exponential random numbers\n",
    "# Although you can generate directly using fault_time = np.random.exponential(scale=), let's use uniform random numbers.\n",
    "n_sample = 10000\n",
    "U = np.random.uniform(size=n_sample)\n",
    "default_time = -(1/def_rate)*np.log(U)\n",
    "\n",
    "# You can check if the RNs are correct by comparing the means\n",
    "(default_time.mean(), 1/def_rate)"
   ]
  },
  {
   "cell_type": "code",
   "execution_count": 10,
   "metadata": {},
   "outputs": [
    {
     "data": {
      "text/plain": [
       "array([  3.76108984,   5.00542032,  16.18618704, ...,   6.48406436,\n",
       "         6.8167597 ,   1.13777423])"
      ]
     },
     "execution_count": 10,
     "metadata": {},
     "output_type": "execute_result"
    }
   ],
   "source": [
    "default_time"
   ]
  },
  {
   "cell_type": "code",
   "execution_count": 11,
   "metadata": {},
   "outputs": [
    {
     "data": {
      "text/plain": [
       "(0.94105033775965607, 0.001071197193503372)"
      ]
     },
     "execution_count": 11,
     "metadata": {},
     "output_type": "execute_result"
    }
   ],
   "source": [
    "# Put your code here to price the corporate bond\n",
    "\n",
    "def corp_bond(mat=1, def_rate=0.03, rf_rate=0.04, recovery=0.3, n_sample=10000):\n",
    "    U = np.random.uniform(size=n_sample)\n",
    "    default_time = -(1/def_rate)*np.log(U)\n",
    "    vals1 = np.zeros(n_sample)\n",
    "    for i in range(0,9999):\n",
    "        if default_time[i] > 1:\n",
    "            vals1[i] = np.exp(-mat*rf_rate)\n",
    "        else :\n",
    "            vals1[i] = recovery*np.exp(-default_time[i]*rf_rate) \n",
    "    price = vals1.mean()\n",
    "    return price\n",
    "\n",
    "\n",
    "\n",
    "# Call your function\n",
    "BondPrice1 = np.zeros(100)\n",
    "for j in range(100):\n",
    "    BondPrice1[j] = corp_bond()\n",
    "     \n",
    "(BondPrice1.mean(),BondPrice1.std())    \n",
    "    \n",
    "\n",
    "# Find the mean and std by calling the function 100 times."
   ]
  },
  {
   "cell_type": "markdown",
   "metadata": {},
   "source": [
    "## 2. Now, let's improve the function by reducing the MC variations."
   ]
  },
  {
   "cell_type": "markdown",
   "metadata": {},
   "source": [
    "1.Use antithetic method: If U is uniform random variable, so is 1-U \n",
    "\n",
    "2.Also shift the RNs to match the mean, 1/def_rate"
   ]
  },
  {
   "cell_type": "code",
   "execution_count": 12,
   "metadata": {},
   "outputs": [
    {
     "data": {
      "text/plain": [
       "(10.0, 10.0)"
      ]
     },
     "execution_count": 12,
     "metadata": {},
     "output_type": "execute_result"
    }
   ],
   "source": [
    "# For example, antithetic method mean\n",
    "n_sample = 10000\n",
    "U = np.random.uniform(size=n_sample)\n",
    "default_time = -(1/def_rate)*np.log(np.concatenate((U,1-U),axis=0))\n",
    "\n",
    "# Mean-matching means\n",
    "default_time += 1/def_rate-default_time.mean()\n",
    "(default_time.mean(), 1/def_rate)"
   ]
  },
  {
   "cell_type": "code",
   "execution_count": 13,
   "metadata": {},
   "outputs": [
    {
     "name": "stdout",
     "output_type": "stream",
     "text": [
      "0.941025513819 0.00111750957061\n",
      "0.941690446968 0.0034805513427\n"
     ]
    }
   ],
   "source": [
    "# No include the two new features: `antithetic` and `mean_match`\n",
    "\n",
    "def corp_bond_cv(mat=1, def_rate=0.03, rf_rate=0.04, recovery=0.3, n_sample=10000, antithetic=True, mean_match=True):\n",
    "    U = np.random.uniform(size=n_sample)\n",
    "    if(antithetic):\n",
    "        default_time = -(1/def_rate)*np.log(np.concatenate((U,1-U),axis=0))\n",
    "        vals2 = np.zeros(n_sample)\n",
    "        for i in range(0,9999):\n",
    "            if default_time[i] > 1:\n",
    "                vals2[i] = np.exp(-mat*rf_rate)\n",
    "            else :\n",
    "                vals2[i] = recovery*np.exp(-default_time[i]*rf_rate) \n",
    "        price = vals2.mean()\n",
    "    if(mean_match):\n",
    "        default_time = -(1/def_rate)*np.log(np.concatenate((U,1-U),axis=0))\n",
    "        default_time += 1/def_rate-default_time.mean()\n",
    "        vals3 = np.zeros(n_sample)\n",
    "        for i in range(0,9999):\n",
    "            if default_time[i] > 1:\n",
    "                vals3[i] = np.exp(-mat*rf_rate)\n",
    "            else :\n",
    "                vals3[i] = recovery*np.exp(-default_time[i]*rf_rate) \n",
    "        price = vals3.mean() \n",
    "    return price\n",
    "\n",
    "BondPrice2 = np.zeros(100)\n",
    "for j in range(100):\n",
    "    BondPrice2[j] =  corp_bond_cv(mean_match=False)\n",
    "     \n",
    "print(BondPrice2.mean(),BondPrice2.std())    \n",
    "\n",
    "BondPrice3 = np.zeros(100)\n",
    "for j in range(100):\n",
    "    BondPrice3[j] =  corp_bond_cv(antithetic=False)\n",
    "     \n",
    "print(BondPrice3.mean(),BondPrice3.std()) \n",
    "\n",
    "# Find the mean and std by calling the function 100 times for (i) antithetic (ii) mean_match and (iii) both"
   ]
  },
  {
   "cell_type": "markdown",
   "metadata": {},
   "source": [
    "## 3. Finally, what is the analytic value of the corporate bond? How does it compare to your MC result above?¶"
   ]
  },
  {
   "cell_type": "code",
   "execution_count": 14,
   "metadata": {},
   "outputs": [
    {
     "data": {
      "text/plain": [
       "0.91869022661855992"
      ]
     },
     "execution_count": 14,
     "metadata": {},
     "output_type": "execute_result"
    }
   ],
   "source": [
    "analyticvalue = 0\n",
    "K = np.arange(0,1,0.0001)\n",
    "for k in range(0,10000):\n",
    "    m = K[j]\n",
    "    analyticvalue += 0.3*np.dot(m,np.exp(-0.04*m))*0.03*np.exp(-0.04*m)\n",
    "\n",
    "analyticvalue += np.dot(1-np.exp(-0.03),np.exp(-0.04))\n",
    "\n",
    "analyticvalue    "
   ]
  },
  {
   "cell_type": "markdown",
   "metadata": {},
   "source": [
    "### Comparison"
   ]
  },
  {
   "cell_type": "code",
   "execution_count": 15,
   "metadata": {},
   "outputs": [
    {
     "name": "stdout",
     "output_type": "stream",
     "text": [
      "0.0223601111411\n",
      "0.0223352872003\n",
      "0.0230002203494\n"
     ]
    }
   ],
   "source": [
    "print(BondPrice1.mean()-analyticvalue)\n",
    "print(BondPrice2.mean()-analyticvalue)\n",
    "print(BondPrice3.mean()-analyticvalue)"
   ]
  },
  {
   "cell_type": "markdown",
   "metadata": {
    "collapsed": true
   },
   "source": [
    "#### Although the price computed by MC method is a little bit different from the analytic price,it is really close to the it."
   ]
  }
 ],
 "metadata": {
  "kernelspec": {
   "display_name": "Python 3",
   "language": "python",
   "name": "python3"
  },
  "language_info": {
   "codemirror_mode": {
    "name": "ipython",
    "version": 3
   },
   "file_extension": ".py",
   "mimetype": "text/x-python",
   "name": "python",
   "nbconvert_exporter": "python",
   "pygments_lexer": "ipython3",
   "version": "3.6.3"
  }
 },
 "nbformat": 4,
 "nbformat_minor": 2
}
